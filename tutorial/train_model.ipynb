{
 "cells": [
  {
   "cell_type": "code",
   "execution_count": 1,
   "metadata": {},
   "outputs": [],
   "source": [
    "import sys\n",
    "sys.path.append(\"../.\")\n",
    "import numpy as np\n",
    "import matplotlib.pyplot as plt\n",
    "import os\n",
    "import jax.numpy as jnp\n",
    "from dmd_data_loader import DMDDataLoader\n",
    "import jax\n",
    "from neural_dmd import NeuralDMD, train_model\n",
    "import equinox as eqx\n",
    "from util_funcs import load_hdf5"
   ]
  },
  {
   "cell_type": "markdown",
   "metadata": {},
   "source": [
    "Train NeuralDMD on Data"
   ]
  },
  {
   "cell_type": "code",
   "execution_count": 2,
   "metadata": {},
   "outputs": [
    {
     "name": "stdout",
     "output_type": "stream",
     "text": [
      "As shape: (110, 342, 6400)\n"
     ]
    },
    {
     "name": "stderr",
     "output_type": "stream",
     "text": [
      "/home/as2c/neural_dmd/tutorial/.././neural_dmd.py:141: UserWarning: A JAX array is being set as static! This can result in unexpected behavior and is usually a mistake to do.\n",
      "  self.encoding = SinusoidalEncoding(num_frequencies=num_frequencies)\n"
     ]
    }
   ],
   "source": [
    "models_dir = \"../../models\"\n",
    "os.makedirs(models_dir, exist_ok=True)\n",
    "plots_dir = \"../../plots\"\n",
    "os.makedirs(plots_dir, exist_ok=True)\n",
    "fov_x, fov_y = jnp.pi, jnp.pi\n",
    "\n",
    "# Taken from generate_data notebook:\n",
    "hs_data_dir = \"../../hs_data\"\n",
    "array_name = 'ngEHT_plus'\n",
    "movie_name = \"orbiting_hs\"\n",
    "fractional_noise = 0.05\n",
    "#####################################\n",
    "obs_path = os.path.join(hs_data_dir, f\"{array_name}/{movie_name}_f{fractional_noise}\")\n",
    "\n",
    "frames, times = load_hdf5(obs_path, \"gt_video.hdf5\") # Load the ground truth video\n",
    "frame_max, frame_min = frames.max(), frames.min()\n",
    "n = frames.shape[0]\n",
    "train_frames = frames[:n,]\n",
    "time_fraction = 0.6 # Fraction of the total time to use for training\n",
    "batch_size = 32\n",
    "num_epochs = 2500 # Number of epochs to train the model for\n",
    "times = (times - times.min()) / (times.max() - times.min()) # normalize times to [0, 1]\n",
    "train_loader = DMDDataLoader(train_frames, batch_size=batch_size, data_dir=obs_path, \n",
    "                                epochs=num_epochs, times=times, fov_x=fov_x, fov_y=fov_y, time_fraction=time_fraction)\n",
    "\n",
    "r = 24 # number of modes to learn: 12 modes + 12 conjugates + 1 static mode\n",
    "key = jax.random.PRNGKey(42) # define random key\n",
    "num_frequencies = 4 # degree of frequencies to use for the positional encoding\n",
    "model = NeuralDMD(r, key=key, num_frequencies=num_frequencies) # initialize the model\n",
    "continue_training = False # set to True to continue training from a saved model\n",
    "if continue_training:\n",
    "    model = eqx.tree_deserialise_leaves(os.path.join(models_dir, \"trained_model.eqx\"), model)\n",
    "\n",
    "beta = 0\n",
    "lr = 1e-3 # learning rate"
   ]
  },
  {
   "cell_type": "code",
   "execution_count": null,
   "metadata": {},
   "outputs": [],
   "source": [
    "trained_model, total_losses, reconstruction_losses, orthogonality_losses = train_model(\n",
    "    model, train_loader, num_epochs, key, beta, models_dir, lr, plots_dir, frame_max, frame_min\n",
    ")"
   ]
  }
 ],
 "metadata": {
  "kernelspec": {
   "display_name": "ngehtsim_env",
   "language": "python",
   "name": "python3"
  },
  "language_info": {
   "codemirror_mode": {
    "name": "ipython",
    "version": 3
   },
   "file_extension": ".py",
   "mimetype": "text/x-python",
   "name": "python",
   "nbconvert_exporter": "python",
   "pygments_lexer": "ipython3",
   "version": "3.11.11"
  }
 },
 "nbformat": 4,
 "nbformat_minor": 2
}
